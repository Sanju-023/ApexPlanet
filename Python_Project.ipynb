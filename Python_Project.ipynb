{
  "cells": [
    {
      "cell_type": "markdown",
      "metadata": {
        "id": "view-in-github",
        "colab_type": "text"
      },
      "source": [
        "<a href=\"https://colab.research.google.com/github/Sanju-023/ApexPlanet/blob/main/Python_Project.ipynb\" target=\"_parent\"><img src=\"https://colab.research.google.com/assets/colab-badge.svg\" alt=\"Open In Colab\"/></a>"
      ]
    },
    {
      "cell_type": "markdown",
      "metadata": {
        "id": "4Xrp3qLEQQ40"
      },
      "source": [
        "# Weather Data Recorder for AgriWeather Insights\n",
        "\n",
        "## 🧑‍🌾 Project Objective:\n",
        "This project is designed to help farmers plan crops better by recording and analyzing daily weather conditions. It allows:\n",
        "- Input of daily weather data (date, temperature, condition)\n",
        "- Analysis of temperature trends using Pandas\n",
        "- Exporting data to CSV file for future use\n"
      ]
    },
    {
      "cell_type": "code",
      "execution_count": 1,
      "metadata": {
        "colab": {
          "base_uri": "https://localhost:8080/",
          "height": 87
        },
        "id": "QOPs5k67QleE",
        "outputId": "d2ef0f60-99f4-4d69-ecef-1b61765cf6a4",
        "collapsed": true
      },
      "outputs": [
        {
          "output_type": "execute_result",
          "data": {
            "text/plain": [
              "'\\nWeather Data Recorder for AgriWeather Insights\\nBusiness Context:\\nAgriWeather Insights, a service provider for farmers, needs a tool to log weather data for crop planning.\\nThis project aims to create a system for recording and analyzing daily weather conditions.\\n\\nFeatures:\\n- Develop a Python application to input weather data (date, temperature, condition) into a list.\\n- Use Pandas to summarize trends (e.g., average temperature) and export to CSV.\\n- Implement functions to add and view data with date validation.\\n- Store unique dates in a set to avoid duplicates.\\n'"
            ],
            "application/vnd.google.colaboratory.intrinsic+json": {
              "type": "string"
            }
          },
          "metadata": {},
          "execution_count": 1
        }
      ],
      "source": [
        "import pandas as pd\n",
        "from datetime import datetime\n",
        "\"\"\"\n",
        "Weather Data Recorder for AgriWeather Insights\n",
        "Business Context:\n",
        "AgriWeather Insights, a service provider for farmers, needs a tool to log weather data for crop planning.\n",
        "This project aims to create a system for recording and analyzing daily weather conditions.\n",
        "\n",
        "Features:\n",
        "- Develop a Python application to input weather data (date, temperature, condition) into a list.\n",
        "- Use Pandas to summarize trends (e.g., average temperature) and export to CSV.\n",
        "- Implement functions to add and view data with date validation.\n",
        "- Store unique dates in a set to avoid duplicates.\n",
        "\"\"\"\n"
      ]
    },
    {
      "cell_type": "code",
      "execution_count": 2,
      "metadata": {
        "id": "wT61VoEoQnl8"
      },
      "outputs": [],
      "source": [
        "weather_data = []\n",
        "dates_recorded = set()\n"
      ]
    },
    {
      "cell_type": "code",
      "execution_count": 3,
      "metadata": {
        "id": "RlLewZUEZ1OC"
      },
      "outputs": [],
      "source": [
        "def is_duplicate_date(date):   # <-- Yahan likhna hai, save_to_csv() se just upar\n",
        "    try:\n",
        "        df = pd.read_csv('weather_data.csv')\n",
        "        return date in df['Date'].values\n",
        "    except FileNotFoundError:\n",
        "        return False\n",
        "\n",
        "def save_to_csv(date, temperature, condition):\n",
        "   # Check if file exists or not\n",
        "    try:\n",
        "        df = pd.read_csv('weather_data.csv')\n",
        "        # Append new data\n",
        "        new_data = {'Date': date, 'Temperature': temperature, 'Condition': condition}\n",
        "        df = df.append(new_data, ignore_index=True)\n",
        "    except FileNotFoundError:\n",
        "        # Agar file nahi hai to nayi file banao\n",
        "        df = pd.DataFrame([{'Date': date, 'Temperature': temperature, 'Condition': condition}])\n",
        "\n",
        "    df.to_csv('weather_data.csv', index=False)\n"
      ]
    },
    {
      "cell_type": "code",
      "execution_count": 4,
      "metadata": {
        "id": "USYnr8imQpmn"
      },
      "outputs": [],
      "source": [
        "def validate_date(date_str):\n",
        "    try:\n",
        "        datetime.strptime(date_str, '%Y-%m-%d')\n",
        "        return True\n",
        "    except ValueError:\n",
        "        return False\n",
        "\n",
        "def add_weather_data():\n",
        "    date = input(\"Enter date (YYYY-MM-DD): \")\n",
        "    if not validate_date(date):\n",
        "        print(\"Invalid date format.\")\n",
        "        return\n",
        "\n",
        "    if date in dates_recorded:\n",
        "        print(\"Data already exists for this date.\")\n",
        "        return\n",
        "\n",
        "    try:\n",
        "        temp = float(input(\"Enter temperature (°C): \"))\n",
        "    except ValueError:\n",
        "        print(\"Invalid temperature.\")\n",
        "        return\n",
        "\n",
        "    condition = input(\"Enter condition (Sunny/Rainy etc.): \")\n",
        "    weather_data.append({\"Date\": date, \"Temperature\": temp, \"Condition\": condition})\n",
        "    dates_recorded.add(date)\n",
        "    print(\"Weather data added.\")\n"
      ]
    },
    {
      "cell_type": "code",
      "execution_count": 5,
      "metadata": {
        "id": "tqGm8IEqQryC"
      },
      "outputs": [],
      "source": [
        "\n",
        "def view_weather_data():\n",
        "    import pandas as pd\n",
        "    try:\n",
        "        df = pd.read_csv(\"weather_data.csv\")\n",
        "        if df.empty:\n",
        "            print(\"❌ No data found!\")\n",
        "        else:\n",
        "            print(\"\\n📋 Weather Data:\\n\")\n",
        "            print(df.to_string(index=False))\n",
        "    except FileNotFoundError:\n",
        "        print(\"❌ No CSV file found. Please add some data first.\")\n",
        "\n",
        "def analyze_weather_data():\n",
        "    if not weather_data:\n",
        "        print(\"No data to analyze.\")\n",
        "        return\n",
        "    df = pd.DataFrame(weather_data)\n",
        "    print(f\"Average Temperature: {df['Temperature'].mean():.2f}°C\")\n",
        "    print(df.groupby(\"Condition\").size())\n",
        "\n",
        "\n",
        "\n",
        "def export_to_csv():\n",
        "    if not weather_data:\n",
        "        print(\"No data to export.\")\n",
        "        return\n",
        "    df = pd.DataFrame(weather_data)\n",
        "    df.to_csv(\"weather_data.csv\", index=False)\n",
        "    print(\"Exported to weather_data.csv\")\n"
      ]
    },
    {
      "cell_type": "code",
      "execution_count": 6,
      "metadata": {
        "id": "0lX6RkkVQto0"
      },
      "outputs": [],
      "source": [
        "def main():\n",
        "    while True:\n",
        "        print(\"\\n1. Add Data\\n2. View Data\\n3. Analyze Data\\n4. Export to CSV\\n5. Exit\")\n",
        "        choice = input(\"Choose: \")\n",
        "        if choice == '1':\n",
        "            add_weather_data()\n",
        "        elif choice == '2':\n",
        "            view_weather_data()\n",
        "        elif choice == '3':\n",
        "            analyze_weather_data()\n",
        "        elif choice == '4':\n",
        "            export_to_csv()\n",
        "        elif choice == '5':\n",
        "            break\n",
        "        else:\n",
        "            print(\"Invalid choice.\")\n"
      ]
    },
    {
      "cell_type": "code",
      "execution_count": 7,
      "metadata": {
        "colab": {
          "base_uri": "https://localhost:8080/"
        },
        "id": "XCSH52PAQvnl",
        "outputId": "ee8b35a9-795c-4277-e958-b70ffb5ba5d2"
      },
      "outputs": [
        {
          "name": "stdout",
          "output_type": "stream",
          "text": [
            "\n",
            "1. Add Data\n",
            "2. View Data\n",
            "3. Analyze Data\n",
            "4. Export to CSV\n",
            "5. Exit\n",
            "Choose: 1\n",
            "Enter date (YYYY-MM-DD): 2025-7-12\n",
            "Enter temperature (°C): 33\n",
            "Enter condition (Sunny/Rainy etc.): Sunny\n",
            "Weather data added.\n",
            "\n",
            "1. Add Data\n",
            "2. View Data\n",
            "3. Analyze Data\n",
            "4. Export to CSV\n",
            "5. Exit\n",
            "Choose: 1\n",
            "Enter date (YYYY-MM-DD): 2025-7-23\n",
            "Enter temperature (°C): 29\n",
            "Enter condition (Sunny/Rainy etc.): Rainy\n",
            "Weather data added.\n",
            "\n",
            "1. Add Data\n",
            "2. View Data\n",
            "3. Analyze Data\n",
            "4. Export to CSV\n",
            "5. Exit\n",
            "Choose: 2\n",
            "❌ No CSV file found. Please add some data first.\n",
            "\n",
            "1. Add Data\n",
            "2. View Data\n",
            "3. Analyze Data\n",
            "4. Export to CSV\n",
            "5. Exit\n",
            "Choose: 3\n",
            "Average Temperature: 31.00°C\n",
            "Condition\n",
            "Rainy    1\n",
            "Sunny    1\n",
            "dtype: int64\n",
            "\n",
            "1. Add Data\n",
            "2. View Data\n",
            "3. Analyze Data\n",
            "4. Export to CSV\n",
            "5. Exit\n",
            "Choose: 4\n",
            "Exported to weather_data.csv\n",
            "\n",
            "1. Add Data\n",
            "2. View Data\n",
            "3. Analyze Data\n",
            "4. Export to CSV\n",
            "5. Exit\n",
            "Choose: 2\n",
            "\n",
            "📋 Weather Data:\n",
            "\n",
            "     Date  Temperature Condition\n",
            "2025-7-12         33.0     Sunny\n",
            "2025-7-23         29.0     Rainy\n",
            "\n",
            "1. Add Data\n",
            "2. View Data\n",
            "3. Analyze Data\n",
            "4. Export to CSV\n",
            "5. Exit\n",
            "Choose: 5\n"
          ]
        }
      ],
      "source": [
        "main()\n"
      ]
    },
    {
      "cell_type": "markdown",
      "metadata": {
        "id": "fbgOXoqNRmc2"
      },
      "source": [
        "## ✅ Conclusion\n",
        "\n",
        "This project helps in recording and analyzing daily weather, which supports farmers in crop planning decisions.\n",
        "\n",
        "**Benefits:**\n",
        "- Easy data input with validation\n",
        "- Analysis using Pandas\n",
        "- Export to CSV for backup\n",
        "\n",
        "**Tools Used**: Python, Pandas, Google Colab\n"
      ]
    }
  ],
  "metadata": {
    "colab": {
      "toc_visible": true,
      "provenance": [],
      "authorship_tag": "ABX9TyNsA3BorTCe/CO4mpWI2fWD",
      "include_colab_link": true
    },
    "kernelspec": {
      "display_name": "Python 3",
      "name": "python3"
    },
    "language_info": {
      "name": "python"
    }
  },
  "nbformat": 4,
  "nbformat_minor": 0
}